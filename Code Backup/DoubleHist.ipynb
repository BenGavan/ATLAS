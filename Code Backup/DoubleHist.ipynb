{
 "cells": [
  {
   "cell_type": "code",
   "execution_count": null,
   "metadata": {
    "scrolled": true
   },
   "outputs": [],
   "source": [
    "%run 'RunAnalysis.py'"
   ]
  },
  {
   "cell_type": "code",
   "execution_count": null,
   "metadata": {},
   "outputs": [],
   "source": [
    "import ROOT as r\n",
    "from ROOT import *\n",
    "import os\n",
    "\n",
    "#2lep,Zee,Wplus_2lep,Wminus_2lep,ttbar_lep\n",
    "#2lep,Zmumu,Wplus_2lep,Wminus_2lep,ttbar_lep\n",
    "\n",
    "# Open histogram file\n",
    "# dataPath = \"\"\n",
    "# histFile = \"\"\n",
    "\n",
    "histName = \"h_lep_etcone\"\n",
    "\n",
    "title = \"etcone20 of ee pair (single e)\"\n",
    "x_label = \"etcone20 / MeV\"\n",
    "y_label = \"Number of entries/bin\"\n",
    "\n",
    "histFile = r.TFile.Open(\"out/Zee_fast.root\", \"READ\")\n",
    "# histFile = r.TFile.Open(\"out/Zmumu_fast.root\", \"READ\")\n",
    "histFile_2lep = r.TFile.Open(\"out/2lep_fast.root\", \"READ\")\n",
    "\n",
    "# Get Histogram from file (from \"out/Zee_fast.root\")\n",
    "# hist_lepton_n = histFile.Get(\"h_lepton_n\")\n",
    "hist = histFile.Get(histName)\n",
    "dataHist_2lep = histFile_2lep.Get(histName)\n",
    "\n",
    "hist.SetDirectory(0)\n",
    "dataHist_2lep.SetDirectory(0)\n",
    "\n",
    "# Close .root file\n",
    "histFile.Close()\n",
    "histFile_2lep.Close()"
   ]
  },
  {
   "cell_type": "code",
   "execution_count": null,
   "metadata": {},
   "outputs": [],
   "source": [
    "\n",
    "# Make a canvas\n",
    "canvasstack = r.TCanvas(\"canvasstack\")\n",
    "canvasstack.SetLogy(1)\n",
    "\n",
    "# Make a stacked histogram\n",
    "hs = r.THStack(\"hs\",\"Stacked plot\")\n",
    "\n",
    "# Configure and plot the ATLAS data\n",
    "dataHist_2lep.SetTitle(title)\n",
    "dataHist_2lep.GetXaxis().SetTitle(x_label)\n",
    "dataHist_2lep.GetYaxis().SetTitle(y_label)\n",
    "dataHist_2lep.SetStats(0)\n",
    "dataHist_2lep.SetLineColor(r.kBlack)\n",
    "dataHist_2lep.SetLineWidth(1)\n",
    "dataHist_2lep.SetMarkerColor(r.kBlack)\n",
    "dataHist_2lep.SetMarkerStyle(21)\n",
    "dataHist_2lep.SetMarkerSize(0.5)\n",
    "dataHist_2lep.Draw(\"e\")\n",
    "\n",
    "# Add MC contributions to the stacked histogram\n",
    "hist.SetLineColor(r.kBlue)\n",
    "# mcHist_Zee.SetFillColor(r.kBlue)\n",
    "hs.Add(hist,\"h\")\n",
    "\n",
    "# Draw the stacked plot onto the canvas\n",
    "hs.Draw(\"same,hist\")\n",
    "\n",
    "# Draw the data (2lep) on the same canvas\n",
    "dataHist_2lep.Draw(\"e,same\")\n",
    "\n",
    "# Edit the x axis range of both stacked plot and data\n",
    "x_lower = 0e3\n",
    "x_upper = 200e3\n",
    "\n",
    "hs.GetXaxis().SetRangeUser(-6e3,7e3)\n",
    "# hs.GetYaxis().SetRangeUser(0,2300)\n",
    "dataHist_2lep.GetXaxis().SetRangeUser(-6e3,7e3)\n",
    "# dataHist_2lep.GetYaxis().SetRangeUser(0,2300)\n",
    "\n",
    "# Add a legend to the plot\n",
    "legend = r.TLegend(0.7,0.45,0.9,0.85)\n",
    "#legend.AddEntry(hist,\"Zee MC\")\n",
    "legend.AddEntry(hist,\"Zmumu MC\")\n",
    "legend.AddEntry(dataHist_2lep,\"2lep Data\")\n",
    "\n",
    "legend.SetLineWidth(0)\n",
    "legend.Draw(\"same\")\n",
    "\n",
    "# Plot the canvas\n",
    "canvasstack.Draw()"
   ]
  },
  {
   "cell_type": "code",
   "execution_count": null,
   "metadata": {},
   "outputs": [],
   "source": []
  }
 ],
 "metadata": {
  "kernelspec": {
   "display_name": "Python 3",
   "language": "python",
   "name": "python3"
  },
  "language_info": {
   "codemirror_mode": {
    "name": "ipython",
    "version": 3
   },
   "file_extension": ".py",
   "mimetype": "text/x-python",
   "name": "python",
   "nbconvert_exporter": "python",
   "pygments_lexer": "ipython3",
   "version": "3.8.3"
  }
 },
 "nbformat": 4,
 "nbformat_minor": 4
}
