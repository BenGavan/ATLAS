{
 "cells": [
  {
   "cell_type": "code",
   "execution_count": 1,
   "metadata": {},
   "outputs": [
    {
     "name": "stdout",
     "output_type": "stream",
     "text": [
      "\n",
      "Dont forget you will need to restart the kernel for any edits you have made to Analysis.py to take effect, before running RunAnalysis.py!\n",
      "\n",
      "Welcome to JupyROOT 6.22/00\n",
      "Please enter a comma-seperated list of decay chains.\n",
      "Use '+' to add data sets together.\n",
      "Write 'text' if you would prefer to read a list from 'input.txt':\n",
      "2lep,Zmumu,Wplus_2lep,Wminus_2lep,ttbar_lep\n",
      "\n",
      "Would you like to run in fast mode to only analyse 1% of data? (yes/no)\n",
      "no\n",
      "Analysing 2lep...\n",
      "A\n",
      "5.087 seconds\n",
      "B\n",
      "16.427 seconds\n",
      "C\n",
      "24.002 seconds\n",
      "D\n",
      "36.044 seconds\n",
      "Analysing Zmumu...\n",
      "255.839 seconds\n",
      "Analysing Wplus_2lep...\n",
      "Wplusenu_2lep\n",
      "0.458 seconds\n",
      "Wplusmunu_2lep\n",
      "0.433 seconds\n",
      "Wplustaunu_2lep\n",
      "0.083 seconds\n",
      "Analysing Wminus_2lep...\n",
      "Wminusenu_2lep\n",
      "0.335 seconds\n",
      "Wminusmunu_2lep\n",
      "0.309 seconds\n",
      "Wminustaunu_2lep\n",
      "0.092 seconds\n",
      "Analysing ttbar_lep...\n",
      "29.151 seconds\n",
      "Run completed!\n"
     ]
    }
   ],
   "source": [
    "%run 'RunAnalysis.py'"
   ]
  },
  {
   "cell_type": "code",
   "execution_count": 1,
   "metadata": {},
   "outputs": [
    {
     "name": "stdout",
     "output_type": "stream",
     "text": [
      "Welcome to JupyROOT 6.22/00\n"
     ]
    }
   ],
   "source": [
    "import ROOT as r\n",
    "from ROOT import *\n",
    "import os"
   ]
  },
  {
   "cell_type": "code",
   "execution_count": 161,
   "metadata": {},
   "outputs": [],
   "source": [
    "#2lep,Zee,Wplus_2lep,Wminus_2lep,ttbar_lep\n",
    "# 2lep,Zmumu,Wplus_2lep,Wminus_2lep,ttbar_lep\n",
    "\n",
    "# Open histogram file\n",
    "# dataPath = \"\"\n",
    "# histFile = \"\"\n",
    "\n",
    "histFile = r.TFile.Open(\"out/Zee.root\", \"READ\")\n",
    "\n",
    "# Get Histogram from file (from \"out/Zee_fast.root\")\n",
    "#hist_lepton_n = histFile.Get(\"h_lepton_n\")\n",
    "hist = histFile.Get(\"h_lep_ptc\")\n",
    "\n",
    "#hist_lepton_n = SetDirectory(0)\n",
    "hist.SetDirectory(0)\n",
    "# Close .root file\n",
    "histFile.Close()\n"
   ]
  },
  {
   "cell_type": "code",
   "execution_count": 162,
   "metadata": {},
   "outputs": [
    {
     "name": "stderr",
     "output_type": "stream",
     "text": [
      "Warning in <TCanvas::Constructor>: Deleting canvas with same name: canvas1\n"
     ]
    },
    {
     "data": {
      "image/png": "[encoded data removed]",
      "text/plain": [
       "<IPython.core.display.Image object>"
      ]
     },
     "metadata": {},
     "output_type": "display_data"
    }
   ],
   "source": [
    "# Allow 'integral' value to be shown in statistics box of all histograms\n",
    "gStyle.SetOptStat(1111111)\n",
    "\n",
    "# FIRST HISTOGRAM\n",
    "\n",
    "# Make the first canvas \n",
    "# For simplicity the variable referring to the canvas should be the same as its name (given by the argument of \"TCanvas()\")\n",
    "canvas = r.TCanvas(\"canvas1\")\n",
    "# canvas.SetLogy(1)\n",
    "#canvas.SetLogx(1)\n",
    "\n",
    "title = \"Invariant mass of 2 leptons (Z -> mumu) (2lep)\"\n",
    "x_label = \"Invariant mass / MeV\"\n",
    "y_label = \"Number of entries/bin\"\n",
    "\n",
    "# Draw out the first histogram of your choice onto the canvas\n",
    "#hist_lepton_n.Draw()\n",
    "# hist.Draw(\"pe\")\n",
    "hist.Draw()\n",
    "hist.GetXaxis().SetRangeUser(-0.5e3,1.5e3)\n",
    "hist.SetTitle(title)\n",
    "hist.GetXaxis().SetTitle(x_label)\n",
    "hist.GetYaxis().SetTitle(y_label)\n",
    "\n",
    "# Show historgram by displaying the canvas\n",
    "canvas.Draw()"
   ]
  },
  {
   "cell_type": "markdown",
   "metadata": {},
   "source": [
    "# "
   ]
  }
 ],
 "metadata": {
  "kernelspec": {
   "display_name": "Python 3",
   "language": "python",
   "name": "python3"
  },
  "language_info": {
   "codemirror_mode": {
    "name": "ipython",
    "version": 3
   },
   "file_extension": ".py",
   "mimetype": "text/x-python",
   "name": "python",
   "nbconvert_exporter": "python",
   "pygments_lexer": "ipython3",
   "version": "3.8.3"
  }
 },
 "nbformat": 4,
 "nbformat_minor": 4
}
